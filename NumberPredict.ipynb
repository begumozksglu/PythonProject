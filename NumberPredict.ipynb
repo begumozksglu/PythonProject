{
 "cells": [
  {
   "cell_type": "markdown",
   "id": "2d7e4e64",
   "metadata": {},
   "source": [
    "### SAYI TAHMİN OYUNU"
   ]
  },
  {
   "cell_type": "code",
   "execution_count": 2,
   "id": "57bfe60d",
   "metadata": {},
   "outputs": [
    {
     "name": "stdout",
     "output_type": "stream",
     "text": [
      "Sayı tahmin oyunu için bir sayı tahmininde bulunur musun? 20\n",
      "Sayı tahmin oyunu için bir sayı tahmininde bulundun: 20 \n",
      "Üzgünüm, daha büyük bir sayı tahmininde bulunmalısın. \n",
      "Sayı tahmin oyunu için bir sayı tahmininde bulunur musun? 30\n",
      "Sayı tahmin oyunu için bir sayı tahmininde bulundun: 30 \n",
      "Üzgünüm, daha büyük bir sayı tahmininde bulunmalısın. \n",
      "Sayı tahmin oyunu için bir sayı tahmininde bulunur musun? 40\n",
      "Sayı tahmin oyunu için bir sayı tahmininde bulundun: 40 \n",
      "Üzgünüm, daha büyük bir sayı tahmininde bulunmalısın. \n",
      "Sayı tahmin oyunu için bir sayı tahmininde bulunur musun? 100\n",
      "Sayı tahmin oyunu için bir sayı tahmininde bulundun: 100 \n",
      "Üzgünüm, daha küçük bir sayı tahmininde bulunmalısın.\n",
      "Sayı tahmin oyunu için bir sayı tahmininde bulunur musun? 60\n",
      "Sayı tahmin oyunu için bir sayı tahmininde bulundun: 60 \n",
      "Üzgünüm, daha büyük bir sayı tahmininde bulunmalısın. \n",
      "Sayı tahmin oyunu için bir sayı tahmininde bulunur musun? 70\n",
      "Sayı tahmin oyunu için bir sayı tahmininde bulundun: 70 \n",
      "Üzgünüm, daha büyük bir sayı tahmininde bulunmalısın. \n",
      "Sayı tahmin oyunu için bir sayı tahmininde bulunur musun? 80\n",
      "Sayı tahmin oyunu için bir sayı tahmininde bulundun: 80 \n",
      "Üzgünüm, daha küçük bir sayı tahmininde bulunmalısın.\n",
      "Sayı tahmin oyunu için bir sayı tahmininde bulunur musun? 75\n",
      "Sayı tahmin oyunu için bir sayı tahmininde bulundun: 75 \n",
      "Üzgünüm, daha büyük bir sayı tahmininde bulunmalısın. \n",
      "Sayı tahmin oyunu için bir sayı tahmininde bulunur musun? 79\n",
      "Sayı tahmin oyunu için bir sayı tahmininde bulundun: 79 \n",
      "Üzgünüm, daha küçük bir sayı tahmininde bulunmalısın.\n",
      "Sayı tahmin oyunu için bir sayı tahmininde bulunur musun? 78\n",
      "Sayı tahmin oyunu için bir sayı tahmininde bulundun: 78 \n",
      "Üzgünüm, daha küçük bir sayı tahmininde bulunmalısın.\n",
      "Sayı tahmin oyunu için bir sayı tahmininde bulunur musun? 77\n",
      "Sayı tahmin oyunu için bir sayı tahmininde bulundun: 77 \n",
      "Üzgünüm, daha küçük bir sayı tahmininde bulunmalısın.\n",
      "Sayı tahmin oyunu için bir sayı tahmininde bulunur musun? 76\n",
      "Tebrikler, 12. denemede doğru tahminde bulundun!!\n"
     ]
    }
   ],
   "source": [
    "import random\n",
    "\n",
    "def guess(num):\n",
    "    count = 1\n",
    "    random_number = int(input(\"Sayı tahmin oyunu için bir sayı tahmininde bulunur musun? \"))\n",
    "    \n",
    "    while num != random_number:\n",
    "        print(f\"Sayı tahmin oyunu için bir sayı tahmininde bulundun: {random_number} \")\n",
    "        count += 1\n",
    "        if num < random_number:\n",
    "            print(\"Üzgünüm, daha küçük bir sayı tahmininde bulunmalısın.\")\n",
    "        else:\n",
    "            print(\"Üzgünüm, daha büyük bir sayı tahmininde bulunmalısın. \")\n",
    "        random_number = int(input(\"Sayı tahmin oyunu için bir sayı tahmininde bulunur musun? \"))\n",
    "    if count == 1:\n",
    "        print(\"Tebrikler, Bu oyununda Efsanesin!\")\n",
    "    elif count <4:\n",
    "        print(\"Eh işte ! İyi sayılırsın!\")\n",
    "    else:\n",
    "       print(f\"Tebrikler, {count}. denemede doğru tahminde bulundun!!\")   \n",
    "guess(random.randint(1,100))"
   ]
  },
  {
   "cell_type": "markdown",
   "id": "f6cb3fc7",
   "metadata": {},
   "source": [
    "### Bilgisayar ile Sayı Tahmin Oyunu"
   ]
  },
  {
   "cell_type": "code",
   "execution_count": 3,
   "id": "98f2a284",
   "metadata": {},
   "outputs": [
    {
     "name": "stdout",
     "output_type": "stream",
     "text": [
      "Tahminde bulunduğum değer 92, aklından tuttuğun değerden büyükse b ,küçükse k, eşitse d ifadesini gir. D\n",
      "Doğru tahmin: 92\n"
     ]
    }
   ],
   "source": [
    "import random\n",
    "\n",
    "def computer_guess(num):   \n",
    "    start, end = 1, 100\n",
    "    back = ''\n",
    "    while back != \"d\":\n",
    "        if start <= end:\n",
    "           guess = random.randint(start, end)\n",
    "        else:\n",
    "            guess = start \n",
    "\n",
    "        back = input(f\"Tahminde bulunduğum değer {guess}, aklından tuttuğun değerden büyükse b ,küçükse k, eşitse d ifadesini gir. \").lower()\n",
    "        if back == 'b' :\n",
    "            end = guess - 1\n",
    "        elif back == 'k':\n",
    "            start = guess + 1\n",
    "        elif back != 'd':       \n",
    "            print(\"Yanlış ifade kullandınız.\")\n",
    "            break\n",
    "    print(f\"Doğru tahmin: {guess}\")\n",
    "computer_guess(9) "
   ]
  }
 ],
 "metadata": {
  "kernelspec": {
   "display_name": "Python 3",
   "language": "python",
   "name": "python3"
  },
  "language_info": {
   "codemirror_mode": {
    "name": "ipython",
    "version": 3
   },
   "file_extension": ".py",
   "mimetype": "text/x-python",
   "name": "python",
   "nbconvert_exporter": "python",
   "pygments_lexer": "ipython3",
   "version": "3.8.8"
  }
 },
 "nbformat": 4,
 "nbformat_minor": 5
}
