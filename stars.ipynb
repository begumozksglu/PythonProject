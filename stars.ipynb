{
 "cells": [
  {
   "cell_type": "markdown",
   "id": "012d499a",
   "metadata": {},
   "source": [
    "### YILDIZ ÇİZİMİ"
   ]
  },
  {
   "cell_type": "code",
   "execution_count": 1,
   "id": "2adf1c82",
   "metadata": {},
   "outputs": [
    {
     "name": "stdout",
     "output_type": "stream",
     "text": [
      "*\n",
      "**\n",
      "***\n",
      "****\n",
      "*****\n"
     ]
    }
   ],
   "source": [
    "rows = 5\n",
    "for i in range(0, rows):\n",
    "  for j in range(0, i+1):\n",
    "    print(\"*\", end=\"\")\n",
    "  print()"
   ]
  },
  {
   "cell_type": "code",
   "execution_count": 2,
   "id": "4be92ecf",
   "metadata": {},
   "outputs": [
    {
     "name": "stdout",
     "output_type": "stream",
     "text": [
      "*\n",
      "**\n",
      "***\n",
      "****\n",
      "*****\n"
     ]
    }
   ],
   "source": [
    "rows = 5\n",
    "for i in range(1, rows+1):\n",
    "  print(\"*\" * i)"
   ]
  },
  {
   "cell_type": "code",
   "execution_count": 3,
   "id": "f0911bc3",
   "metadata": {},
   "outputs": [
    {
     "name": "stdout",
     "output_type": "stream",
     "text": [
      "*****\n",
      "****\n",
      "***\n",
      "**\n",
      "*\n"
     ]
    }
   ],
   "source": [
    "rows = 5\n",
    "for i in range(rows, 0, -1):\n",
    "  for j in range(0, i):\n",
    "    print(\"*\", end=\"\")\n",
    "  print()"
   ]
  },
  {
   "cell_type": "code",
   "execution_count": 4,
   "id": "8cb67359",
   "metadata": {},
   "outputs": [
    {
     "name": "stdout",
     "output_type": "stream",
     "text": [
      "*****\n",
      "****\n",
      "***\n",
      "**\n",
      "*\n"
     ]
    }
   ],
   "source": [
    "rows = 5\n",
    "for i in range(rows, 0, -1):\n",
    "  print(\"*\" * i)"
   ]
  },
  {
   "cell_type": "code",
   "execution_count": 5,
   "id": "a4f2a783",
   "metadata": {},
   "outputs": [
    {
     "name": "stdout",
     "output_type": "stream",
     "text": [
      "     *\n",
      "    **\n",
      "   ***\n",
      "  ****\n",
      " *****\n"
     ]
    }
   ],
   "source": [
    "rows = 5\n",
    "for i in range(0, rows):\n",
    "  for j in range(0, i+1):\n",
    "    if j == 0:\n",
    "      print(\" \"*(rows - i)+ \"*\", end=\"\")\n",
    "    else: print(\"*\", end=\"\")\n",
    "  print()"
   ]
  },
  {
   "cell_type": "code",
   "execution_count": 6,
   "id": "048dcb94",
   "metadata": {},
   "outputs": [
    {
     "name": "stdout",
     "output_type": "stream",
     "text": [
      "    *\n",
      "   **\n",
      "  ***\n",
      " ****\n",
      "*****\n"
     ]
    }
   ],
   "source": [
    "rows = 5\n",
    "for i in range(1, rows+1):\n",
    "  print(\" \"*(rows - i)+ \"*\" * i)"
   ]
  },
  {
   "cell_type": "code",
   "execution_count": 7,
   "id": "8621cbd7",
   "metadata": {},
   "outputs": [
    {
     "name": "stdout",
     "output_type": "stream",
     "text": [
      "*****\n",
      " ****\n",
      "  ***\n",
      "   **\n",
      "    *\n"
     ]
    }
   ],
   "source": [
    "rows = 5\n",
    "for i in range(rows, 0, -1):\n",
    "  for j in range(0, i):\n",
    "    if j == 0:\n",
    "      print(\" \"*(rows - i)+ \"*\", end=\"\")\n",
    "    else: print(\"*\", end=\"\")\n",
    "  print()"
   ]
  },
  {
   "cell_type": "code",
   "execution_count": 8,
   "id": "bc044e57",
   "metadata": {},
   "outputs": [
    {
     "name": "stdout",
     "output_type": "stream",
     "text": [
      "*****\n",
      " ****\n",
      "  ***\n",
      "   **\n",
      "    *\n"
     ]
    }
   ],
   "source": [
    "rows = 5\n",
    "for i in range(rows, 0, -1):\n",
    "  print(\" \"*(rows - i)+ \"*\" * i)"
   ]
  },
  {
   "cell_type": "code",
   "execution_count": 9,
   "id": "253f1802",
   "metadata": {},
   "outputs": [
    {
     "name": "stdout",
     "output_type": "stream",
     "text": [
      "      * \n",
      "     * * \n",
      "    * * * \n",
      "   * * * * \n",
      "  * * * * * \n"
     ]
    }
   ],
   "source": [
    "for i in range(5):\n",
    "    for k in range(-6, -i):\n",
    "        print(\" \", end=\"\")\n",
    "    for j in range(i+1):\n",
    "        print(\"* \", end=\"\")\n",
    "    print()"
   ]
  },
  {
   "cell_type": "code",
   "execution_count": 10,
   "id": "d3d9293f",
   "metadata": {},
   "outputs": [
    {
     "name": "stdout",
     "output_type": "stream",
     "text": [
      "* * * * * \n",
      " * * * * \n",
      "  * * * \n",
      "   * * \n",
      "    * \n"
     ]
    }
   ],
   "source": [
    "for i in range(5):\n",
    "    for s in range(i):\n",
    "        print(\" \", end=\"\")\n",
    "    for j in range(i, 5):\n",
    "        print(\"* \", end=\"\")\n",
    "    print()"
   ]
  },
  {
   "cell_type": "code",
   "execution_count": 11,
   "id": "48f12a0f",
   "metadata": {},
   "outputs": [
    {
     "name": "stdout",
     "output_type": "stream",
     "text": [
      "    **\n",
      "   ****\n",
      "  ******\n",
      " ********\n",
      "**********\n"
     ]
    }
   ],
   "source": [
    "rows = 5\n",
    "for i in range(1, rows + 1):\n",
    "  print(\" \" * (rows - i) + \"*\"*i*2)"
   ]
  },
  {
   "cell_type": "code",
   "execution_count": null,
   "id": "9b42d47f",
   "metadata": {},
   "outputs": [],
   "source": []
  }
 ],
 "metadata": {
  "kernelspec": {
   "display_name": "Python 3",
   "language": "python",
   "name": "python3"
  },
  "language_info": {
   "codemirror_mode": {
    "name": "ipython",
    "version": 3
   },
   "file_extension": ".py",
   "mimetype": "text/x-python",
   "name": "python",
   "nbconvert_exporter": "python",
   "pygments_lexer": "ipython3",
   "version": "3.8.8"
  }
 },
 "nbformat": 4,
 "nbformat_minor": 5
}
